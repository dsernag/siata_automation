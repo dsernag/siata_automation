{
 "cells": [
  {
   "cell_type": "markdown",
   "metadata": {},
   "source": [
    "# SIATA AUTOMATION DOWNLOAD SYSTEM (LOAD)\n",
    "<b>By: <em>David Serna</em></b><br>\n",
    "<b><em>Data Scientist and Data Engineer</em></b>\n",
    "\n",
    "If you want to know more about the project, what is SIATA and the motivations to make this repository, please [visit](https://github.com/dsernag/siata_automation) it\n",
    "\n",
    "Also, here is my LinkedIn profile: [<img width=\"25px\" src=\"../imgs/linkedIn_PNG32.png\" alt=\"LinkedinLogo\"/>](https://www.linkedin.com/in/dsernag/)\n",
    "\n",
    "This is open source code, so you can use it, but remember to be etic and if is possibly, cite it.©"
   ]
  },
  {
   "cell_type": "markdown",
   "metadata": {},
   "source": [
    "## Configure your environment\n",
    "\n",
    "I highly recommend to create an isolated Python environment, for sanity check, replication purposes and as a learning activity. Also is required to install wget for Windows users.\n",
    "\n",
    "### Conda environment\n",
    "\n",
    "I love [miniconda](https://docs.conda.io/en/latest/miniconda.html), is light and portable and allow an easly manipulation of environments. If you don't install conda, please at least create an independt environment in Python, here is the [documentation](https://docs.python.org/3/library/venv.html).\n",
    "\n",
    "After install miniconda, create a environment this way (This command is valid for any operating system):\n",
    "\n",
    "```bash\n",
    "conda create -n siata python=3.9 selenium=4.5.0 ipykernel beautifulsoup4 pandas numpy matplotlib seaborn mysql-connector-python sqlalchemy\n",
    "```\n",
    "\n",
    "There is also a `requirements.txt` file to install via pip\n",
    "\n",
    "### MySQL\n",
    "\n",
    "In this exercise we are going to use MySQL to provide a RDBMS system. Depending on your specific OS there is a specific installation method, [HERE](https://dev.mysql.com/doc/refman/8.0/en/installing.html) is the documentation.\n",
    "\n",
    "Please be sure that you are allow to enter in the MySQL Shell:\n",
    "\n",
    "```bash\n",
    "mysql -u root -p\n",
    "```\n",
    "\n",
    "And be here with me:\n",
    "\n",
    "<img src=\"../imgs/mysql_init.png\" width=\"600px\">\n",
    "\n",
    "\n",
    "Now we are ready to begin!🚀🚀🚀\n",
    "\n",
    "<b>NOTE:</b> This notebook is not intended no be used in a row. Is intended to be executed line by line, with supervision and understanding the process.\n"
   ]
  },
  {
   "cell_type": "markdown",
   "metadata": {},
   "source": [
    "## Load CSV to a RDBMS"
   ]
  },
  {
   "cell_type": "markdown",
   "metadata": {},
   "source": [
    "### Enter to MySQL CLI\n",
    "This is one of the easiest parts of the ETL process. We already have a unique csv file, now it's time to put it on MySQL."
   ]
  },
  {
   "cell_type": "markdown",
   "metadata": {},
   "source": [
    "The first step was done before. In the mysql console let's write and enter:\n",
    "\n",
    "```SQL\n",
    "CREATE DATABASE siata;\n",
    "```"
   ]
  },
  {
   "cell_type": "markdown",
   "metadata": {},
   "source": [
    "### Create a table and insert records"
   ]
  },
  {
   "cell_type": "markdown",
   "metadata": {},
   "source": [
    "We send a SQL sentence to create a table if doesn't exists where we going to insert the data:\n",
    "\n",
    "```sql\n",
    "USE siata;\n",
    "CREATE TABLE IF NOT EXISTS pm25 (date DATE, station INT, pm25 FLOAT, index_quality FLOAT);\n",
    "```"
   ]
  },
  {
   "cell_type": "markdown",
   "metadata": {},
   "source": [
    "Now we will use this command:\n",
    "\n",
    "```sql\n",
    "LOAD DATA CONCURRENT LOCAL INFILE '/home/dsg/siata_automation/data/stage/1605-2208-historic-air.csv' REPLACE\n",
    "INTO TABLE pm25\n",
    "FIELDS TERMINATED BY ','\n",
    "ENCLOSED BY '\"'\n",
    "LINES TERMINATED BY '\\n'\n",
    "IGNORE 1 ROWS;\n",
    "```"
   ]
  },
  {
   "cell_type": "markdown",
   "metadata": {},
   "source": [
    "Wow! We did it! That was interesting. Let's make a query:\n",
    "\n",
    "<img src=\"../imgs/mysql_query.png\" width=\"400px\">\n",
    "\n",
    "This was the final step on creating and ETL process. Let's continue diving into data and found some insights in the [EDA.ipynb](EDA.ipynb) notebook.\n",
    "\n",
    "This is open source code, so you can use it, but remember to be etic and if is possibly, cite it.©"
   ]
  }
 ],
 "metadata": {
  "kernelspec": {
   "display_name": "Python 3.9.13 ('siata')",
   "language": "python",
   "name": "python3"
  },
  "language_info": {
   "codemirror_mode": {
    "name": "ipython",
    "version": 3
   },
   "file_extension": ".py",
   "mimetype": "text/x-python",
   "name": "python",
   "nbconvert_exporter": "python",
   "pygments_lexer": "ipython3",
   "version": "3.9.13"
  },
  "orig_nbformat": 4,
  "vscode": {
   "interpreter": {
    "hash": "1dd207637e4111fdc2b67fd8821282cea1474323c53f53ddea14f2f8557c2ff4"
   }
  }
 },
 "nbformat": 4,
 "nbformat_minor": 2
}
