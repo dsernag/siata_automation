{
 "cells": [
  {
   "cell_type": "code",
   "execution_count": null,
   "metadata": {},
   "outputs": [],
   "source": []
  }
 ],
 "metadata": {
  "kernelspec": {
   "display_name": "Python 3.9.13 ('siata')",
   "language": "python",
   "name": "python3"
  },
  "language_info": {
   "name": "python",
   "version": "3.9.13"
  },
  "orig_nbformat": 4,
  "vscode": {
   "interpreter": {
    "hash": "1dd207637e4111fdc2b67fd8821282cea1474323c53f53ddea14f2f8557c2ff4"
   }
  }
 },
 "nbformat": 4,
 "nbformat_minor": 2
}
